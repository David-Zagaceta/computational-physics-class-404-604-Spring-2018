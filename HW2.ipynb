{
 "cells": [
  {
   "cell_type": "markdown",
   "metadata": {},
   "source": [
    "## DAVID ZAGACETA HOMEWORK 2\n",
    "\n",
    "1) Calculate and plot Fn/Fn-1 with n using memorization\n",
    "method"
   ]
  },
  {
   "cell_type": "code",
   "execution_count": 1,
   "metadata": {},
   "outputs": [],
   "source": [
    "def fib3(n, table):\n",
    "    if n == 0 or n==1:\n",
    "        table[n]=n\n",
    "    \n",
    "    # if the value has not been calculated, calculate it \n",
    "    if table[n] is None:\n",
    "        table[n] = fib3(n-1, table) + fib3(n-2, table)\n",
    "        \n",
    "    return table[n]"
   ]
  },
  {
   "cell_type": "code",
   "execution_count": 15,
   "metadata": {},
   "outputs": [
    {
     "data": {
      "image/png": "[encoded data removed]",
      "text/plain": [
       "<matplotlib.figure.Figure at 0xa54cc30>"
      ]
     },
     "metadata": {},
     "output_type": "display_data"
    }
   ],
   "source": [
    "import matplotlib.pyplot as plt\n",
    "n=50\n",
    "table = [None]*(n+1)\n",
    "Fn = []\n",
    "for i in range(n):\n",
    "    Fn.append(fib3(i,table))\n",
    "phi = []\n",
    "for i in range(n-2):\n",
    "    phi.append(Fn[i+2]/Fn[i+1])\n",
    "\n",
    "plt.plot(phi,'-oc')\n",
    "plt.xlabel('n')\n",
    "plt.ylabel('Fib[n]/Fib[n-1]')\n",
    "plt.title('computing the golden ratio from the fibonacci sequence')\n",
    "plt.show()"
   ]
  },
  {
   "cell_type": "markdown",
   "metadata": {},
   "source": [
    "2 \n",
    "    a) Use the iteration method, tabulation method, and\n",
    "matrix method to calculate the time spent for different n\n",
    "(e.g. 1, 10, 100, 1000, 10000, … uniform in the log\n",
    "space).\n",
    "b) For each method, output the time and n into a file\n",
    "c) Read from the file and plot log(time) (y-axis) vs.\n",
    "log(n) (x-axis) for different methods"
   ]
  },
  {
   "cell_type": "code",
   "execution_count": 3,
   "metadata": {},
   "outputs": [],
   "source": [
    "# recursive method\n",
    "\n",
    "def fib2(n):      # extremely simple, but exponentially running time, very slow for large n, n cannot too large (stack limit)\n",
    "    if n == 0: return 0\n",
    "    elif n == 1: return 1\n",
    "    else: return fib2(n-1)+fib2(n-2)"
   ]
  },
  {
   "cell_type": "code",
   "execution_count": 4,
   "metadata": {},
   "outputs": [],
   "source": [
    "import time\n",
    "recursive_time = []\n",
    "N_recursive = []\n",
    "for i in range(30):\n",
    "    start_time = time.time()\n",
    "    fib2(i+1)\n",
    "    recursive_time.append(time.time() - start_time)\n",
    "    N_recursive.append(i+1)"
   ]
  },
  {
   "cell_type": "code",
   "execution_count": 5,
   "metadata": {},
   "outputs": [],
   "source": [
    "# tabulation method\n",
    "def fib4(n):      # fast, no stack limit\n",
    "    table=[0]*(n+1)\n",
    "    table[1] = 1\n",
    "    \n",
    "    for i in range(2,n+1):\n",
    "        table[i]=table[i-1]+table[i-2]\n",
    "    return table[n]"
   ]
  },
  {
   "cell_type": "code",
   "execution_count": 6,
   "metadata": {},
   "outputs": [],
   "source": [
    "import time\n",
    "tabulation_time = []\n",
    "N_tabulation = []\n",
    "for i in range(5):\n",
    "    start_time = time.time()\n",
    "    fib4(10**(i+1))\n",
    "    tabulation_time.append(time.time()- start_time)\n",
    "    N_tabulation.append(10**(i+1))"
   ]
  },
  {
   "cell_type": "code",
   "execution_count": 7,
   "metadata": {},
   "outputs": [],
   "source": [
    "# matrix method\n",
    "\n",
    "def arrpow(arr, n): # calculate 2x2 array to the nth power.\n",
    "    yarr=arr\n",
    "    if n<1:\n",
    "        print('n needs to be larger than 1')\n",
    "    if n==1:\n",
    "        return arr\n",
    "    yarr = arrpow(arr, n//2)\n",
    "    yarr = [[yarr[0][0]*yarr[0][0]+yarr[0][1]*yarr[1][0],yarr[0][0]*yarr[0][1]+yarr[0][1]*yarr[1][1]], # array multiply itself\n",
    "            [yarr[1][0]*yarr[0][0]+yarr[1][1]*yarr[1][0],yarr[1][0]*yarr[0][1]+yarr[1][1]*yarr[1][1]]]\n",
    "    if n%2:   # if n is an odd number, multiple another arr\n",
    "        yarr=[[yarr[0][0]*arr[0][0]+yarr[0][1]*arr[1][0],yarr[0][0]*arr[0][1]+yarr[0][1]*arr[1][1]],\n",
    "            [yarr[1][0]*arr[0][0]+yarr[1][1]*arr[1][0],yarr[1][0]*arr[0][1]+yarr[1][1]*arr[1][1]]]\n",
    "    return yarr\n",
    "\n",
    "def fib5(n):   # the fastest method\n",
    "    arr= [[1,1],[1,0]]\n",
    "    f=arrpow(arr,n-1)[0][0]  #0 0 component is Fn#\n",
    "    return f"
   ]
  },
  {
   "cell_type": "code",
   "execution_count": 8,
   "metadata": {},
   "outputs": [],
   "source": [
    "import time\n",
    "matrix_time = []\n",
    "N_matrix = []\n",
    "for i in range(5):\n",
    "    start_time = time.time()\n",
    "    fib5(10**(i+1))\n",
    "    matrix_time.append(time.time()-start_time)\n",
    "    N_matrix.append(10**(i+1))"
   ]
  },
  {
   "cell_type": "code",
   "execution_count": 9,
   "metadata": {},
   "outputs": [
    {
     "data": {
      "text/plain": [
       "'C:\\\\Users\\\\david\\\\phys404-work\\\\computational-physics-class-404-604-Spring-2018'"
      ]
     },
     "execution_count": 9,
     "metadata": {},
     "output_type": "execute_result"
    }
   ],
   "source": [
    "import os\n",
    "os.getcwd()"
   ]
  },
  {
   "cell_type": "code",
   "execution_count": 10,
   "metadata": {},
   "outputs": [],
   "source": [
    "from numpy import savetxt\n",
    "savetxt('recursive_time.csv',(N_recursive,recursive_time),delimiter=',')\n",
    "savetxt('tabulation_time.csv',(N_tabulation,tabulation_time),delimiter=',')\n",
    "savetxt('matrix_time.csv',(N_matrix,matrix_time),delimiter=',')"
   ]
  },
  {
   "cell_type": "code",
   "execution_count": 11,
   "metadata": {},
   "outputs": [],
   "source": [
    "from numpy import loadtxt\n",
    "recursive = loadtxt('recursive_time.csv',delimiter=',')\n",
    "tabulation = loadtxt('tabulation_time.csv',delimiter=',')\n",
    "matrix = loadtxt('matrix_time.csv',delimiter=',')"
   ]
  },
  {
   "cell_type": "code",
   "execution_count": 16,
   "metadata": {},
   "outputs": [
    {
     "name": "stderr",
     "output_type": "stream",
     "text": [
      "c:\\users\\david\\appdata\\local\\programs\\python\\python36-32\\lib\\site-packages\\ipykernel_launcher.py:2: RuntimeWarning: divide by zero encountered in log\n",
      "  \n"
     ]
    },
    {
     "data": {
      "image/png": "[encoded data removed]",
      "text/plain": [
       "<matplotlib.figure.Figure at 0xa57c590>"
      ]
     },
     "metadata": {},
     "output_type": "display_data"
    }
   ],
   "source": [
    "from numpy import log\n",
    "plt.plot(log(recursive[0]),log(recursive[1]))\n",
    "plt.xlabel('n')\n",
    "plt.ylabel('time to compute fn')\n",
    "plt.title('recursive computation time')\n",
    "plt.show()"
   ]
  },
  {
   "cell_type": "code",
   "execution_count": 17,
   "metadata": {},
   "outputs": [
    {
     "name": "stderr",
     "output_type": "stream",
     "text": [
      "c:\\users\\david\\appdata\\local\\programs\\python\\python36-32\\lib\\site-packages\\ipykernel_launcher.py:1: RuntimeWarning: divide by zero encountered in log\n",
      "  \"\"\"Entry point for launching an IPython kernel.\n"
     ]
    },
    {
     "data": {
      "image/png": "[encoded data removed]",
      "text/plain": [
       "<matplotlib.figure.Figure at 0x9e0f10>"
      ]
     },
     "metadata": {},
     "output_type": "display_data"
    }
   ],
   "source": [
    "plt.plot(log(tabulation[0]),log(tabulation[1]))\n",
    "plt.xlabel('n')\n",
    "plt.ylabel('time to compute fn')\n",
    "plt.title('tabulation computation time')\n",
    "plt.show()"
   ]
  },
  {
   "cell_type": "code",
   "execution_count": 18,
   "metadata": {},
   "outputs": [
    {
     "name": "stderr",
     "output_type": "stream",
     "text": [
      "c:\\users\\david\\appdata\\local\\programs\\python\\python36-32\\lib\\site-packages\\ipykernel_launcher.py:1: RuntimeWarning: divide by zero encountered in log\n",
      "  \"\"\"Entry point for launching an IPython kernel.\n"
     ]
    },
    {
     "data": {
      "image/png": "[encoded data removed]",
      "text/plain": [
       "<matplotlib.figure.Figure at 0x9e0790>"
      ]
     },
     "metadata": {},
     "output_type": "display_data"
    }
   ],
   "source": [
    "plt.plot(log(matrix[0]),log(matrix[1]))\n",
    "plt.xlabel('n')\n",
    "plt.ylabel('time to compute fn')\n",
    "plt.title('matrix computation time')\n",
    "plt.show()"
   ]
  },
  {
   "cell_type": "code",
   "execution_count": null,
   "metadata": {},
   "outputs": [],
   "source": []
  }
 ],
 "metadata": {
  "kernelspec": {
   "display_name": "Python 3",
   "language": "python",
   "name": "python3"
  },
  "language_info": {
   "codemirror_mode": {
    "name": "ipython",
    "version": 3
   },
   "file_extension": ".py",
   "mimetype": "text/x-python",
   "name": "python",
   "nbconvert_exporter": "python",
   "pygments_lexer": "ipython3",
   "version": "3.6.4"
  }
 },
 "nbformat": 4,
 "nbformat_minor": 2
}
