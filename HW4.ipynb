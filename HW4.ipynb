{
 "cells": [
  {
   "cell_type": "markdown",
   "metadata": {},
   "source": [
    "## David Zagaceta Homework 4\n",
    "\n",
    "## <center> 2 suspended mass problem </center>\n",
    "\n",
    "## Homework 4 problem is at the bottom\n",
    "\n",
    "First we define the functions and symbols for our symbolic manipulation"
   ]
  },
  {
   "cell_type": "code",
   "execution_count": 1,
   "metadata": {},
   "outputs": [],
   "source": [
    "from sympy import *\n",
    "x1, x2, x3, x4, x5, x6, x7, x8, x9 = symbols('x1, x2, x3, x4, x5, x6, x7, x8, x9')"
   ]
  },
  {
   "cell_type": "code",
   "execution_count": 2,
   "metadata": {},
   "outputs": [],
   "source": [
    "f1 = 3*x4 + 4*x5 + 4*x6 - 8\n",
    "f2 = 3*x1 + 4*x2 - 4*x3\n",
    "f3 = x7*x1 - x8*x2 - 10\n",
    "f4 = x7*x4 -x8*x5\n",
    "f5 = x8*x2 + x9*x3 - 20\n",
    "f6 = x8*x5 -x9*x6\n",
    "f7 = x1**2 + x4**2 - 1\n",
    "f8 = x2**2 + x5**2 - 1\n",
    "f9 = x3**2 + x6**2 - 1\n",
    "\n",
    "x = [x1,x2,x3,x4,x5,x6,x7,x8,x9]\n",
    "F = Matrix([[f1],[f2],[f3],[f4],[f5],[f6],[f7],[f8],[f9]])\n",
    "J = Matrix([[0,0,0,0,0,0,0,0,0],[0,0,0,0,0,0,0,0,0],[0,0,0,0,0,0,0,0,0],[0,0,0,0,0,0,0,0,0],[0,0,0,0,0,0,0,0,0],[0,0,0,0,0,0,0,0,0],[0,0,0,0,0,0,0,0,0],[0,0,0,0,0,0,0,0,0],[0,0,0,0,0,0,0,0,0]])"
   ]
  },
  {
   "cell_type": "markdown",
   "metadata": {},
   "source": [
    "Here we compute the Jacobian matrix of our function vector to use to compute our delta x vector."
   ]
  },
  {
   "cell_type": "code",
   "execution_count": 3,
   "metadata": {},
   "outputs": [],
   "source": [
    "for i in range(9):\n",
    "    for j in range(9):\n",
    "        J[i,j] = diff(F[i],x[j])"
   ]
  },
  {
   "cell_type": "markdown",
   "metadata": {},
   "source": [
    "Here we turn our function vector and Jacobian matrix into functions f and j with inputs x<sub>1</sub>, x<sub>2</sub>,..., x<sub>9</sub>."
   ]
  },
  {
   "cell_type": "code",
   "execution_count": 4,
   "metadata": {},
   "outputs": [],
   "source": [
    "f = lambdify([x1,x2,x3,x4,x5,x6,x7,x8,x9],F)\n",
    "j = lambdify([x1,x2,x3,x4,x5,x6,x7,x8,x9],J)"
   ]
  },
  {
   "cell_type": "markdown",
   "metadata": {},
   "source": [
    "Here we define our function.  What we do here is we minimize the norm of the residual vector F_value to zero.  We input the functions along with inital values for the x value along with our acceptable resolution epsilon.  Using the Jacobian at x and the function vector at x we can solve for dx using row operations within the np.linalg.solve function.  The norm is calculated using the np.linalg.norm command.  Once the norm is less than our acceptable resolution the function terminates.  The function will also terminate and print 'failed' if the iterations exceed 1000."
   ]
  },
  {
   "cell_type": "code",
   "execution_count": 5,
   "metadata": {},
   "outputs": [],
   "source": [
    "def Newton_system(F, J, x1, x2, x3, x4, x5, x6, x7, x8, x9, eps):\n",
    "    '''newtons method for a system of multivariable non linear equations'''\n",
    "    import numpy as np\n",
    "    F_value = F(x1,x2,x3,x4,x5,x6,x7,x8,x9).astype(np.float64)\n",
    "    F_norm = np.linalg.norm(F_value)\n",
    "    counter = 0\n",
    "    while abs(F_norm) > eps and counter < 1000:\n",
    "        J_value = J(x1,x2,x3,x4,x5,x6,x7,x8,x9).astype(np.float64)\n",
    "        delta = np.linalg.solve(J_value,-F_value)\n",
    "        x1 = float(x1 + delta[0])\n",
    "        x2 = float(x2 + delta[1])\n",
    "        x3 = float(x3 + delta[2])\n",
    "        x4 = float(x4 + delta[3])\n",
    "        x5 = float(x5 + delta[4])\n",
    "        x6 = float(x6 + delta[5])\n",
    "        x7 = float(x7 + delta[6])\n",
    "        x8 = float(x8 + delta[7])\n",
    "        x9 = float(x9 + delta[8])\n",
    "        F_value = F(x1,x2,x3,x4,x5,x6,x7,x8,x9).astype(np.float64)\n",
    "        F_norm = np.linalg.norm(F_value)\n",
    "        counter += 1\n",
    "    if abs(F_norm) > eps:\n",
    "        return 'failed'\n",
    "    #print('it took ',counter,' iterations to find the zero')\n",
    "    return x1,x2,x3,x4,x5,x6,x7,x8,x9"
   ]
  },
  {
   "cell_type": "code",
   "execution_count": 6,
   "metadata": {},
   "outputs": [
    {
     "data": {
      "text/plain": [
       "(0.7610026921018715,\n",
       " 0.2649538102807026,\n",
       " 0.8357058293571064,\n",
       " 0.6487487207029421,\n",
       " 0.9642611048972873,\n",
       " 0.5491773545755061,\n",
       " 17.160209784607293,\n",
       " 11.545279684327758,\n",
       " 20.271528044639112)"
      ]
     },
     "execution_count": 6,
     "metadata": {},
     "output_type": "execute_result"
    }
   ],
   "source": [
    "Newton_system(f,j,1.0,1.0,1.0,1.0,1.0,1.0,1.0,1.0,1.0, 10**(-14))\n"
   ]
  },
  {
   "cell_type": "markdown",
   "metadata": {},
   "source": [
    "## Checking The Accuracy"
   ]
  },
  {
   "cell_type": "code",
   "execution_count": 7,
   "metadata": {},
   "outputs": [],
   "source": [
    "x1,x2,x3,x4,x5,x6,x7,x8,x9 = Newton_system(f,j,1,1,1,1,1,1,1,1,1, 10**(-14))"
   ]
  },
  {
   "cell_type": "code",
   "execution_count": 8,
   "metadata": {},
   "outputs": [
    {
     "data": {
      "text/plain": [
       "array([[  0.00000000e+00],\n",
       "       [ -2.22044605e-16],\n",
       "       [  8.88178420e-16],\n",
       "       [  1.77635684e-15],\n",
       "       [ -3.55271368e-15],\n",
       "       [ -1.77635684e-15],\n",
       "       [ -1.11022302e-16],\n",
       "       [ -1.11022302e-16],\n",
       "       [  1.11022302e-16]])"
      ]
     },
     "execution_count": 8,
     "metadata": {},
     "output_type": "execute_result"
    }
   ],
   "source": [
    "f(x1,x2,x3,x4,x5,x6,x7,x8,x9)"
   ]
  },
  {
   "cell_type": "code",
   "execution_count": 9,
   "metadata": {},
   "outputs": [
    {
     "name": "stdout",
     "output_type": "stream",
     "text": [
      "591 µs ± 8.77 µs per loop (mean ± std. dev. of 7 runs, 1000 loops each)\n"
     ]
    }
   ],
   "source": [
    "%timeit Newton_system(f,j,1,1,1,1,1,1,1,1,1, 10**(-14))"
   ]
  },
  {
   "cell_type": "markdown",
   "metadata": {},
   "source": [
    "## Homework 4 problem\n",
    "\n",
    "Solve the system:\n",
    "\n",
    "$ x_1^2 + x_1x_2 = 10 $\n",
    "\n",
    "$x_2+3x_1x_2^2 = 57$\n",
    "\n",
    "\n",
    "using Newton-Raphson method."
   ]
  },
  {
   "cell_type": "code",
   "execution_count": 10,
   "metadata": {},
   "outputs": [],
   "source": [
    "x1,x2,x3 = symbols('x1, x2, x3')"
   ]
  },
  {
   "cell_type": "code",
   "execution_count": 11,
   "metadata": {},
   "outputs": [],
   "source": [
    "equation_1 = x1**2+x1*x2-10\n",
    "equation_2 = x2+3*x1*x2**2-57"
   ]
  },
  {
   "cell_type": "code",
   "execution_count": 12,
   "metadata": {},
   "outputs": [],
   "source": [
    "x = [x1,x2]\n",
    "F = Matrix([[equation_1],[equation_2]])\n",
    "J = Matrix([[0,0],[0,0]])"
   ]
  },
  {
   "cell_type": "code",
   "execution_count": 13,
   "metadata": {},
   "outputs": [],
   "source": [
    "for i in range(len(x)):\n",
    "    for j in range(len(x)):\n",
    "        J[i,j] = diff(F[i],x[j])"
   ]
  },
  {
   "cell_type": "code",
   "execution_count": 14,
   "metadata": {},
   "outputs": [],
   "source": [
    "f = lambdify([x1,x2],F)\n",
    "j = lambdify([x1,x2],J)"
   ]
  },
  {
   "cell_type": "code",
   "execution_count": 15,
   "metadata": {},
   "outputs": [],
   "source": [
    "def newton(F,J,x1,x2,eps):\n",
    "    import numpy as np\n",
    "    F_value = F(x1,x2).astype(np.float64)\n",
    "    F_norm = np.linalg.norm(F_value)\n",
    "    counter = 0\n",
    "    while abs(F_norm) > eps and counter < 1000:\n",
    "        J_value = J(x1,x2).astype(np.float64)\n",
    "        delta = np.linalg.solve(J_value,-F_value)\n",
    "        x1 = float(x1 + delta[0])\n",
    "        x2 = float(x2 + delta[1])\n",
    "        F_value = F(x1,x2).astype(np.float64)\n",
    "        F_norm = np.linalg.norm(F_value)\n",
    "        counter += 1\n",
    "    if abs(F_norm) > eps:\n",
    "        return 'failed'\n",
    "    #print('it took ',counter,' iterations to find the zero')\n",
    "    return x1,x2"
   ]
  },
  {
   "cell_type": "code",
   "execution_count": 17,
   "metadata": {},
   "outputs": [],
   "source": [
    "x_1, x_2 = newton(f,j,1,1,10e-14)"
   ]
  },
  {
   "cell_type": "code",
   "execution_count": 18,
   "metadata": {},
   "outputs": [
    {
     "data": {
      "text/plain": [
       "array([[ 0.],\n",
       "       [ 0.]])"
      ]
     },
     "execution_count": 18,
     "metadata": {},
     "output_type": "execute_result"
    }
   ],
   "source": [
    "f(x_1,x_2)"
   ]
  },
  {
   "cell_type": "code",
   "execution_count": 19,
   "metadata": {},
   "outputs": [
    {
     "name": "stdout",
     "output_type": "stream",
     "text": [
      "2.0 3.0\n"
     ]
    }
   ],
   "source": [
    "print(x_1,x_2)"
   ]
  },
  {
   "cell_type": "code",
   "execution_count": null,
   "metadata": {},
   "outputs": [],
   "source": []
  }
 ],
 "metadata": {
  "kernelspec": {
   "display_name": "Python 3",
   "language": "python",
   "name": "python3"
  },
  "language_info": {
   "codemirror_mode": {
    "name": "ipython",
    "version": 3
   },
   "file_extension": ".py",
   "mimetype": "text/x-python",
   "name": "python",
   "nbconvert_exporter": "python",
   "pygments_lexer": "ipython3",
   "version": "3.6.4"
  }
 },
 "nbformat": 4,
 "nbformat_minor": 2
}
