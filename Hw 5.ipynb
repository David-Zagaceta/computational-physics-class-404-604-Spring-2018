{
 "cells": [
  {
   "cell_type": "markdown",
   "metadata": {},
   "source": [
    "## David Zagaceta\n",
    "\n",
    "## Homework 5 \n",
    "\n",
    "## Solution to the 5th Legendre Polynomial via the shooting method"
   ]
  },
  {
   "cell_type": "code",
   "execution_count": 1,
   "metadata": {},
   "outputs": [],
   "source": [
    "import numpy as np\n",
    "import matplotlib.pyplot as plt\n",
    "from scipy.integrate import odeint, RK45"
   ]
  },
  {
   "cell_type": "markdown",
   "metadata": {},
   "source": [
    "The differential equation for the legendre polynomial is given by:\n",
    "\n",
    "$$ y'' = 1/(1-t^2) [2ty'-n(n+1)y] $$\n",
    "\n",
    "We can turn this second order differential equation into two first order a system of 2 first order odes.\n",
    "\n",
    "$$x_2 = y'$$\n",
    "\n",
    "$$x_1 = y$$\n",
    "\n",
    "$$x_2 = y' = x'_1$$\n",
    "\n",
    "$$x'_2 = y'' = Ax_2 + Bx_1$$\n",
    "\n",
    "the system becomes\n",
    "\n",
    "$$x'_1 = x_2$$\n",
    "\n",
    "$$x'_2 = 1/(1-t^2) [2tx_2-n(n+1)x_1]$$\n",
    "\n",
    "where n = 5 \n",
    "\n",
    "$$x'_2 = 1/(1-t^2) [2tx_2-30x_1]$$\n",
    "\n",
    "$x_1(0)=0$\n",
    "\n",
    "$x_2(0) = ?$\n",
    "\n",
    "$x_1(1) = 1$"
   ]
  },
  {
   "cell_type": "code",
   "execution_count": 2,
   "metadata": {},
   "outputs": [],
   "source": [
    "def solvr(y,t):\n",
    "    '''the system of first order odes'''\n",
    "    return(y[1],(1.0/(1.0-t**2))*(2.0*t*y[1]-30.0*y[0]))"
   ]
  },
  {
   "cell_type": "code",
   "execution_count": 3,
   "metadata": {},
   "outputs": [
    {
     "name": "stdout",
     "output_type": "stream",
     "text": [
      "found at  2 iterations\n"
     ]
    },
    {
     "data": {
      "text/plain": [
       "<function matplotlib.pyplot.show>"
      ]
     },
     "execution_count": 3,
     "metadata": {},
     "output_type": "execute_result"
    },
    {
     "data": {
      "image/png": "[encoded data removed]",
      "text/plain": [
       "<matplotlib.figure.Figure at 0xe049910>"
      ]
     },
     "metadata": {},
     "output_type": "display_data"
    }
   ],
   "source": [
    "maxiter = 100\n",
    "dymin = 0\n",
    "dymax = 5\n",
    "t = np.linspace(0,1,100)\n",
    "for i in range(maxiter):\n",
    "    y0 = [0.0,(dymax+dymin)/2]\n",
    "    x = odeint(solvr, y0, t)\n",
    "    if np.abs(x[-1,0]-1) <= 0.01:\n",
    "        print('found at ',i,'iterations')\n",
    "        break\n",
    "    if x[-1,0] < 1:\n",
    "        dymin = y0[1]\n",
    "    else:\n",
    "        dymax = y0[1]\n",
    "    \n",
    "plt.plot(t,x[:,0])\n",
    "plt.show"
   ]
  },
  {
   "cell_type": "code",
   "execution_count": 4,
   "metadata": {},
   "outputs": [
    {
     "name": "stdout",
     "output_type": "stream",
     "text": [
      "[[  0.00000000e+00   1.87500000e+00]\n",
      " [  1.89303847e-02   1.87232212e+00]\n",
      " [  3.78066798e-02   1.86429338e+00]\n",
      " [  5.65749098e-02   1.85092852e+00]\n",
      " [  7.51812909e-02   1.83225216e+00]\n",
      " [  9.35723373e-02   1.80829873e+00]\n",
      " [  1.11694968e-01   1.77911249e+00]\n",
      " [  1.29496576e-01   1.74474755e+00]\n",
      " [  1.46925164e-01   1.70526786e+00]\n",
      " [  1.63929448e-01   1.66074719e+00]\n",
      " [  1.80458917e-01   1.61126918e+00]\n",
      " [  1.96463961e-01   1.55692727e+00]\n",
      " [  2.11895963e-01   1.49782476e+00]\n",
      " [  2.26707398e-01   1.43407479e+00]\n",
      " [  2.40851936e-01   1.36580032e+00]\n",
      " [  2.54284536e-01   1.29313416e+00]\n",
      " [  2.66961550e-01   1.21621896e+00]\n",
      " [  2.78840821e-01   1.13520720e+00]\n",
      " [  2.89881781e-01   1.05026121e+00]\n",
      " [  3.00045552e-01   9.61553138e-01]\n",
      " [  3.09295042e-01   8.69264983e-01]\n",
      " [  3.17595051e-01   7.73588581e-01]\n",
      " [  3.24912364e-01   6.74725603e-01]\n",
      " [  3.31215853e-01   5.72887558e-01]\n",
      " [  3.36476577e-01   4.68295793e-01]\n",
      " [  3.40667880e-01   3.61181493e-01]\n",
      " [  3.43765490e-01   2.51785679e-01]\n",
      " [  3.45747621e-01   1.40359212e-01]\n",
      " [  3.46595069e-01   2.71627902e-02]\n",
      " [  3.46291314e-01  -8.75330526e-02]\n",
      " [  3.44822619e-01  -2.03447943e-01]\n",
      " [  3.42178126e-01  -3.20291671e-01]\n",
      " [  3.38349962e-01  -4.37764188e-01]\n",
      " [  3.33333330e-01  -5.55555608e-01]\n",
      " [  3.27126618e-01  -6.73346208e-01]\n",
      " [  3.19731488e-01  -7.90806427e-01]\n",
      " [  3.11152984e-01  -9.07596867e-01]\n",
      " [  3.01399628e-01  -1.02336829e+00]\n",
      " [  2.90483516e-01  -1.13776162e+00]\n",
      " [  2.78420426e-01  -1.25040796e+00]\n",
      " [  2.65229906e-01  -1.36092854e+00]\n",
      " [  2.50935384e-01  -1.46893478e+00]\n",
      " [  2.35564262e-01  -1.57402826e+00]\n",
      " [  2.19148014e-01  -1.67580072e+00]\n",
      " [  2.01722291e-01  -1.77383405e+00]\n",
      " [  1.83327012e-01  -1.86770033e+00]\n",
      " [  1.64006474e-01  -1.95696176e+00]\n",
      " [  1.43809442e-01  -2.04117075e+00]\n",
      " [  1.22789252e-01  -2.11986983e+00]\n",
      " [  1.01003913e-01  -2.19259173e+00]\n",
      " [  7.85162004e-02  -2.25885932e+00]\n",
      " [  5.53937614e-02  -2.31818563e+00]\n",
      " [  3.17092105e-02  -2.37007386e+00]\n",
      " [  7.54023030e-03  -2.41401737e+00]\n",
      " [ -1.70303294e-02  -2.44949969e+00]\n",
      " [ -4.19143521e-02  -2.47599451e+00]\n",
      " [ -6.70183554e-02  -2.49296567e+00]\n",
      " [ -9.22433915e-02  -2.49986718e+00]\n",
      " [ -1.17484948e-01  -2.49614322e+00]\n",
      " [ -1.42632848e-01  -2.48122812e+00]\n",
      " [ -1.67571151e-01  -2.45454638e+00]\n",
      " [ -1.92178055e-01  -2.41551266e+00]\n",
      " [ -2.16325795e-01  -2.36353178e+00]\n",
      " [ -2.39880543e-01  -2.29799873e+00]\n",
      " [ -2.62702312e-01  -2.21829865e+00]\n",
      " [ -2.84644854e-01  -2.12380687e+00]\n",
      " [ -3.05555562e-01  -2.01388883e+00]\n",
      " [ -3.25275369e-01  -1.88790019e+00]\n",
      " [ -3.43638649e-01  -1.74518674e+00]\n",
      " [ -3.60473119e-01  -1.58508443e+00]\n",
      " [ -3.75599740e-01  -1.40691940e+00]\n",
      " [ -3.88832615e-01  -1.21000791e+00]\n",
      " [ -3.99978891e-01  -9.93656430e-01]\n",
      " [ -4.08838661e-01  -7.57161553e-01]\n",
      " [ -4.15204861e-01  -4.99810055e-01]\n",
      " [ -4.18863176e-01  -2.20878869e-01]\n",
      " [ -4.19591935e-01   8.03649094e-02]\n",
      " [ -4.17162016e-01   4.04664021e-01]\n",
      " [ -4.11336744e-01   7.52771047e-01]\n",
      " [ -4.01871793e-01   1.12544840e+00]\n",
      " [ -3.88515086e-01   1.52346834e+00]\n",
      " [ -3.71006694e-01   1.94761296e+00]\n",
      " [ -3.49078742e-01   2.39867419e+00]\n",
      " [ -3.22455303e-01   2.87745380e+00]\n",
      " [ -2.90852303e-01   3.38476338e+00]\n",
      " [ -2.53977420e-01   3.92142439e+00]\n",
      " [ -2.11529984e-01   4.48826811e+00]\n",
      " [ -1.63200881e-01   5.08613565e+00]\n",
      " [ -1.08672448e-01   5.71587796e+00]\n",
      " [ -4.76183792e-02   6.37835585e+00]\n",
      " [  2.02963770e-02   7.07443995e+00]\n",
      " [  9.54157160e-02   7.80501073e+00]\n",
      " [  1.78092476e-01   8.57095850e+00]\n",
      " [  2.68688538e-01   9.37318339e+00]\n",
      " [  3.67574925e-01   1.02125954e+01]\n",
      " [  4.75131903e-01   1.10901143e+01]\n",
      " [  5.91749075e-01   1.20066698e+01]\n",
      " [  7.17825489e-01   1.29632014e+01]\n",
      " [  8.53769729e-01   1.39606584e+01]\n",
      " [  1.00000002e+00   1.50000000e+01]]\n"
     ]
    }
   ],
   "source": [
    "print(x)"
   ]
  },
  {
   "cell_type": "code",
   "execution_count": null,
   "metadata": {},
   "outputs": [],
   "source": []
  }
 ],
 "metadata": {
  "kernelspec": {
   "display_name": "Python 3",
   "language": "python",
   "name": "python3"
  },
  "language_info": {
   "codemirror_mode": {
    "name": "ipython",
    "version": 3
   },
   "file_extension": ".py",
   "mimetype": "text/x-python",
   "name": "python",
   "nbconvert_exporter": "python",
   "pygments_lexer": "ipython3",
   "version": "3.6.4"
  }
 },
 "nbformat": 4,
 "nbformat_minor": 2
}
