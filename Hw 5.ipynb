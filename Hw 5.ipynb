{
 "cells": [
  {
   "cell_type": "markdown",
   "metadata": {},
   "source": [
    "## David Zagaceta\n",
    "\n",
    "## Homework 5 \n",
    "\n",
    "## Solution to the 5th Legendre Polynomial via the shooting method"
   ]
  },
  {
   "cell_type": "code",
   "execution_count": 1,
   "metadata": {},
   "outputs": [],
   "source": [
    "import numpy as np\n",
    "import matplotlib.pyplot as plt\n",
    "from scipy.integrate import odeint"
   ]
  },
  {
   "cell_type": "markdown",
   "metadata": {},
   "source": [
    "The differential equation for the legendre polynomial is given by:\n",
    "\n",
    "$$ y'' = \\frac{1}{(1-t^2)} [2ty'-n(n+1)y] $$\n",
    "\n",
    "We can turn this second order differential equation into two first order a system of 2 first order odes.\n",
    "\n",
    "$$x_2 = y'$$\n",
    "\n",
    "$$x_1 = y$$\n",
    "\n",
    "$$x_2 = y' = x'_1$$\n",
    "\n",
    "$$x'_2 = y'' = Ax_2 + Bx_1$$\n",
    "\n",
    "the system becomes\n",
    "\n",
    "$$x'_1 = x_2$$\n",
    "\n",
    "$$x'_2 = \\frac{1}{1-t^2} [2tx_2-n(n+1)x_1]$$\n",
    "\n",
    "where n = 5 \n",
    "\n",
    "$$x'_2 = \\frac{1}{1-t^2} [2tx_2-30x_1]$$\n",
    "\n",
    "initial and boundary conditions\n",
    "\n",
    "$x_1(0)=0$\n",
    "\n",
    "$x_2(0) = ?$\n",
    "\n",
    "$x_1(1) = 1$"
   ]
  },
  {
   "cell_type": "code",
   "execution_count": 2,
   "metadata": {},
   "outputs": [],
   "source": [
    "def solvr(y,t):\n",
    "    '''the system of first order odes for the 5th term of the set of legendre polynomials'''\n",
    "    return(y[1],(1.0/(1.0-t**2))*(2.0*t*y[1]-30.0*y[0]))"
   ]
  },
  {
   "cell_type": "code",
   "execution_count": 3,
   "metadata": {},
   "outputs": [
    {
     "name": "stdout",
     "output_type": "stream",
     "text": [
      "found at  2 iterations\n"
     ]
    },
    {
     "data": {
      "image/png": "[encoded data removed]",
      "text/plain": [
       "<matplotlib.figure.Figure at 0xde89d90>"
      ]
     },
     "metadata": {},
     "output_type": "display_data"
    }
   ],
   "source": [
    "maxiter = 100\n",
    "dymin = 0\n",
    "dymax = 5\n",
    "t = np.linspace(0,1,100)\n",
    "for i in range(maxiter):\n",
    "    y0 = [0.0,(dymax+dymin)/2]\n",
    "    x = odeint(solvr, y0, t)\n",
    "    if np.abs(x[-1,0]-1) <= 0.01:\n",
    "        print('found at ',i,'iterations')\n",
    "        break\n",
    "    if x[-1,0] < 1:\n",
    "        dymin = y0[1]\n",
    "    else:\n",
    "        dymax = y0[1]\n",
    "    \n",
    "plt.plot(t,x[:,0])\n",
    "plt.title('shooting method')\n",
    "plt.ylabel('y(t)')\n",
    "plt.xlabel('t')\n",
    "plt.show()"
   ]
  },
  {
   "cell_type": "code",
   "execution_count": 4,
   "metadata": {},
   "outputs": [
    {
     "name": "stdout",
     "output_type": "stream",
     "text": [
      "[[  0.00000000e+00   1.87500000e+00]\n",
      " [  1.89303847e-02   1.87232212e+00]\n",
      " [  3.78066798e-02   1.86429338e+00]\n",
      " [  5.65749098e-02   1.85092852e+00]\n",
      " [  7.51812909e-02   1.83225216e+00]\n",
      " [  9.35723373e-02   1.80829873e+00]\n",
      " [  1.11694968e-01   1.77911249e+00]\n",
      " [  1.29496576e-01   1.74474755e+00]\n",
      " [  1.46925164e-01   1.70526786e+00]\n",
      " [  1.63929448e-01   1.66074719e+00]\n",
      " [  1.80458917e-01   1.61126918e+00]\n",
      " [  1.96463961e-01   1.55692727e+00]\n",
      " [  2.11895963e-01   1.49782476e+00]\n",
      " [  2.26707398e-01   1.43407479e+00]\n",
      " [  2.40851936e-01   1.36580032e+00]\n",
      " [  2.54284536e-01   1.29313416e+00]\n",
      " [  2.66961550e-01   1.21621896e+00]\n",
      " [  2.78840821e-01   1.13520720e+00]\n",
      " [  2.89881781e-01   1.05026121e+00]\n",
      " [  3.00045552e-01   9.61553138e-01]\n",
      " [  3.09295042e-01   8.69264983e-01]\n",
      " [  3.17595051e-01   7.73588581e-01]\n",
      " [  3.24912364e-01   6.74725603e-01]\n",
      " [  3.31215853e-01   5.72887558e-01]\n",
      " [  3.36476577e-01   4.68295793e-01]\n",
      " [  3.40667880e-01   3.61181493e-01]\n",
      " [  3.43765490e-01   2.51785679e-01]\n",
      " [  3.45747621e-01   1.40359212e-01]\n",
      " [  3.46595069e-01   2.71627902e-02]\n",
      " [  3.46291314e-01  -8.75330526e-02]\n",
      " [  3.44822619e-01  -2.03447943e-01]\n",
      " [  3.42178126e-01  -3.20291671e-01]\n",
      " [  3.38349962e-01  -4.37764188e-01]\n",
      " [  3.33333330e-01  -5.55555608e-01]\n",
      " [  3.27126618e-01  -6.73346208e-01]\n",
      " [  3.19731488e-01  -7.90806427e-01]\n",
      " [  3.11152984e-01  -9.07596867e-01]\n",
      " [  3.01399628e-01  -1.02336829e+00]\n",
      " [  2.90483516e-01  -1.13776162e+00]\n",
      " [  2.78420426e-01  -1.25040796e+00]\n",
      " [  2.65229906e-01  -1.36092854e+00]\n",
      " [  2.50935384e-01  -1.46893478e+00]\n",
      " [  2.35564262e-01  -1.57402826e+00]\n",
      " [  2.19148014e-01  -1.67580072e+00]\n",
      " [  2.01722291e-01  -1.77383405e+00]\n",
      " [  1.83327012e-01  -1.86770033e+00]\n",
      " [  1.64006474e-01  -1.95696176e+00]\n",
      " [  1.43809442e-01  -2.04117075e+00]\n",
      " [  1.22789252e-01  -2.11986983e+00]\n",
      " [  1.01003913e-01  -2.19259173e+00]\n",
      " [  7.85162004e-02  -2.25885932e+00]\n",
      " [  5.53937614e-02  -2.31818563e+00]\n",
      " [  3.17092105e-02  -2.37007386e+00]\n",
      " [  7.54023030e-03  -2.41401737e+00]\n",
      " [ -1.70303294e-02  -2.44949969e+00]\n",
      " [ -4.19143521e-02  -2.47599451e+00]\n",
      " [ -6.70183554e-02  -2.49296567e+00]\n",
      " [ -9.22433915e-02  -2.49986718e+00]\n",
      " [ -1.17484948e-01  -2.49614322e+00]\n",
      " [ -1.42632848e-01  -2.48122812e+00]\n",
      " [ -1.67571151e-01  -2.45454638e+00]\n",
      " [ -1.92178055e-01  -2.41551266e+00]\n",
      " [ -2.16325795e-01  -2.36353178e+00]\n",
      " [ -2.39880543e-01  -2.29799873e+00]\n",
      " [ -2.62702312e-01  -2.21829865e+00]\n",
      " [ -2.84644854e-01  -2.12380687e+00]\n",
      " [ -3.05555562e-01  -2.01388883e+00]\n",
      " [ -3.25275369e-01  -1.88790019e+00]\n",
      " [ -3.43638649e-01  -1.74518674e+00]\n",
      " [ -3.60473119e-01  -1.58508443e+00]\n",
      " [ -3.75599740e-01  -1.40691940e+00]\n",
      " [ -3.88832615e-01  -1.21000791e+00]\n",
      " [ -3.99978891e-01  -9.93656430e-01]\n",
      " [ -4.08838661e-01  -7.57161553e-01]\n",
      " [ -4.15204861e-01  -4.99810055e-01]\n",
      " [ -4.18863176e-01  -2.20878869e-01]\n",
      " [ -4.19591935e-01   8.03649094e-02]\n",
      " [ -4.17162016e-01   4.04664021e-01]\n",
      " [ -4.11336744e-01   7.52771047e-01]\n",
      " [ -4.01871793e-01   1.12544840e+00]\n",
      " [ -3.88515086e-01   1.52346834e+00]\n",
      " [ -3.71006694e-01   1.94761296e+00]\n",
      " [ -3.49078742e-01   2.39867419e+00]\n",
      " [ -3.22455303e-01   2.87745380e+00]\n",
      " [ -2.90852303e-01   3.38476338e+00]\n",
      " [ -2.53977420e-01   3.92142439e+00]\n",
      " [ -2.11529984e-01   4.48826811e+00]\n",
      " [ -1.63200881e-01   5.08613565e+00]\n",
      " [ -1.08672448e-01   5.71587796e+00]\n",
      " [ -4.76183792e-02   6.37835585e+00]\n",
      " [  2.02963770e-02   7.07443995e+00]\n",
      " [  9.54157160e-02   7.80501073e+00]\n",
      " [  1.78092476e-01   8.57095850e+00]\n",
      " [  2.68688538e-01   9.37318339e+00]\n",
      " [  3.67574925e-01   1.02125954e+01]\n",
      " [  4.75131903e-01   1.10901143e+01]\n",
      " [  5.91749075e-01   1.20066698e+01]\n",
      " [  7.17825489e-01   1.29632014e+01]\n",
      " [  8.53769729e-01   1.39606584e+01]\n",
      " [  1.00000002e+00   1.50000000e+01]]\n"
     ]
    }
   ],
   "source": [
    "print(x)"
   ]
  },
  {
   "cell_type": "markdown",
   "metadata": {},
   "source": [
    "## Relaxation Method\n",
    "\n",
    "In this we will use 5 nodes, at 0, 0.2, 0.4, 0.8, and 1.0 and solve the differential equation at each\n",
    "\n",
    "\n",
    "$$ y'' = \\frac{1}{(1-t^2)} [2ty'-n(n+1)y] $$\n",
    "\n",
    "$$ y'' = \\frac{y_{i-1}-2y_i+y_{i+1}}{\\Delta t^2}$$\n",
    "\n",
    "$$ y' = \\frac{y_{i+1}-y_{i-1}}{2\\Delta t}$$\n",
    "\n",
    "then the differential equation becomes\n",
    "\n",
    "$$ \\frac{y_{i-1}-2y_i+y_{i+1}}{\\Delta t^2} = \\frac{1}{(1-t^2)} [2t\\frac{y_{i+1}-y_{i-1}}{2\\Delta t}-n(n+1)y_i] $$\n",
    "\n",
    "when n = 5 and $\\Delta t = 0.2$\n",
    "\n",
    "$$ \\frac{y_{i-1}-2y_i+y_{i+1}}{0.04} = \\frac{1}{(1-t^2)} [t\\frac{y_{i+1}-y_{i-1}}{0.2}-30y_i] $$\n",
    "\n",
    "$$ (1-t^2)\\frac{y_{i-1}-2y_i+y_{i+1}}{0.04} = t\\frac{y_{i+1}-y_{i-1}}{0.2}-30y_i $$\n",
    "\n",
    "$$ 5(1-t^2)(y_{i-1}-2y_i+y_{i+1}) = t(y_{i+1}-y_{i-1})-6y_i $$"
   ]
  },
  {
   "cell_type": "markdown",
   "metadata": {},
   "source": [
    "$$ (-4+10t^2)y_i + (t-5t^2+5)y_{i-1} + (5-t-t^2)y_{i+1} = 0 $$"
   ]
  },
  {
   "cell_type": "markdown",
   "metadata": {},
   "source": [
    "Now we will set up equations for each of the nodes \n",
    "\n",
    "for i = 1\n",
    "\n",
    "$ y_1 = 0 $\n",
    "\n",
    "for i = 2\n",
    "\n",
    "$ -\\frac{18}{5}y_{2} + \\frac{119}{25}y_{3} = 0 $\n",
    "\n",
    "for i = 3\n",
    "\n",
    "$ -\\frac{12}{5}y_{3} + \\frac{23}{5}y_{2} + \\frac{111}{25}y_{4} = 0 $\n",
    "\n",
    "for i = 4\n",
    "\n",
    "$ -\\frac{2}{5}y_{4} + \\frac{19}{5}y_{3} + \\frac{101}{25}y_{5} = 0 $\n",
    "\n",
    "for i = 5\n",
    "\n",
    "$ \\frac{12}{5}y_{5} + \\frac{13}{5}y_{4} + \\frac{89}{25} = 0 $\n",
    "\n",
    "for i = 6\n",
    "\n",
    "$ y_6 = 1 $"
   ]
  },
  {
   "cell_type": "code",
   "execution_count": 5,
   "metadata": {},
   "outputs": [],
   "source": [
    "from sympy import *\n",
    "y1, y2, y3, y4, y5, y6 = symbols('y1, y2, y3, y4, y5, y6')"
   ]
  },
  {
   "cell_type": "code",
   "execution_count": 6,
   "metadata": {},
   "outputs": [],
   "source": [
    "e1 = y1\n",
    "e2 = -18/5*y2 + 119/25*y3\n",
    "e3 = 23/5*y2 - 12/5*y3 + 111/25*y4\n",
    "e4 = 19/5*y3 - 2/5*y4 + 101/25*y5\n",
    "e5 = 13/5*y4 + 12/5*y5 + 89/25\n",
    "e6 = y6 - 1 \n",
    "\n",
    "#defining the function vector and creating an empty matrix for the jacobian\n",
    "\n",
    "E = Matrix([[e1],[e2],[e3],[e4],[e5],[e6]])\n",
    "J = np.zeros([6,6])\n",
    "J = Matrix(J)\n",
    "y = [y1, y2, y3, y4, y5, y6]"
   ]
  },
  {
   "cell_type": "code",
   "execution_count": 7,
   "metadata": {},
   "outputs": [],
   "source": [
    "# taking the jacobian of the function vector\n",
    "\n",
    "for i in range(6):\n",
    "    for j in range(6):\n",
    "        J[i,j] = diff(E[i],y[j])"
   ]
  },
  {
   "cell_type": "code",
   "execution_count": 8,
   "metadata": {},
   "outputs": [],
   "source": [
    "#creating functions for the function vector and jacobian matrix\n",
    "\n",
    "e = lambdify([y1,y2,y3,y4,y5,y6],E)\n",
    "j = lambdify([y1,y2,y3,y4,y5,y6],J)"
   ]
  },
  {
   "cell_type": "code",
   "execution_count": 9,
   "metadata": {},
   "outputs": [],
   "source": [
    "def ODE_system(E, J, y1, y2, y3, y4, y5, y6, eps):\n",
    "    '''relaxation method'''\n",
    "    import numpy as np\n",
    "    E_value = E(y1,y2,y3,y4,y5,y6).astype(np.float64)\n",
    "    E_norm = np.linalg.norm(E_value)\n",
    "    counter = 0\n",
    "    while abs(E_norm) > eps and counter < 1000:\n",
    "        J_value = J(y1,y2,y3,y4,y5,y6).astype(np.float64)\n",
    "        delta = np.linalg.solve(J_value,-E_value)\n",
    "        y1 = float(y1 + delta[0])\n",
    "        y2 = float(y2 + delta[1])\n",
    "        y3 = float(y3 + delta[2])\n",
    "        y4 = float(y4 + delta[3])\n",
    "        y5 = float(y5 + delta[4])\n",
    "        y6 = float(y6 + delta[5])\n",
    "        E_value = E(y1,y2,y3,y4,y5,y6).astype(np.float64)\n",
    "        E_norm = np.linalg.norm(E_value)\n",
    "        counter += 1\n",
    "    if abs(E_norm) > eps:\n",
    "        return 'failed'\n",
    "    #print('it took ',counter,' iterations to find the zero')\n",
    "    y = [y1,y2,y3,y4,y5,y6]\n",
    "    return y"
   ]
  },
  {
   "cell_type": "code",
   "execution_count": 10,
   "metadata": {},
   "outputs": [],
   "source": [
    "y = ODE_system(e,j,1.0,1.0,1.0,1.0,1.0,1.0, 10**(-14))"
   ]
  },
  {
   "cell_type": "code",
   "execution_count": 11,
   "metadata": {},
   "outputs": [],
   "source": [
    "t = [0.0,0.2,0.4,0.6,0.8,1.0]"
   ]
  },
  {
   "cell_type": "code",
   "execution_count": 12,
   "metadata": {},
   "outputs": [
    {
     "data": {
      "image/png": "[encoded data removed]",
      "text/plain": [
       "<matplotlib.figure.Figure at 0x108c3070>"
      ]
     },
     "metadata": {},
     "output_type": "display_data"
    }
   ],
   "source": [
    "plt.plot(t,y)\n",
    "plt.title('relaxation method')\n",
    "plt.xlabel('t')\n",
    "plt.ylabel('y(t)')\n",
    "plt.show()"
   ]
  },
  {
   "cell_type": "code",
   "execution_count": 14,
   "metadata": {},
   "outputs": [],
   "source": [
    "from scipy import interpolate\n",
    "tck = interpolate.splrep(t, y, s=0)\n",
    "tnew = np.linspace(0,1,1000)\n",
    "ynew = interpolate.splev(tnew, tck, der=0)"
   ]
  },
  {
   "cell_type": "code",
   "execution_count": 15,
   "metadata": {},
   "outputs": [
    {
     "data": {
      "image/png": "[encoded data removed]",
      "text/plain": [
       "<matplotlib.figure.Figure at 0x10b378b0>"
      ]
     },
     "metadata": {},
     "output_type": "display_data"
    }
   ],
   "source": [
    "plt.plot(tnew,ynew)\n",
    "plt.title('relaxation method interpolation')\n",
    "plt.xlabel('t')\n",
    "plt.ylabel('y(t)')\n",
    "plt.show()"
   ]
  },
  {
   "cell_type": "markdown",
   "metadata": {},
   "source": [
    "## If i had chosen more nodes for the finite difference method I would have come closer to the actual solution"
   ]
  },
  {
   "cell_type": "code",
   "execution_count": null,
   "metadata": {},
   "outputs": [],
   "source": []
  }
 ],
 "metadata": {
  "kernelspec": {
   "display_name": "Python 3",
   "language": "python",
   "name": "python3"
  },
  "language_info": {
   "codemirror_mode": {
    "name": "ipython",
    "version": 3
   },
   "file_extension": ".py",
   "mimetype": "text/x-python",
   "name": "python",
   "nbconvert_exporter": "python",
   "pygments_lexer": "ipython3",
   "version": "3.6.4"
  }
 },
 "nbformat": 4,
 "nbformat_minor": 2
}
