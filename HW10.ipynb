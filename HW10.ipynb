{
 "cells": [
  {
   "cell_type": "markdown",
   "metadata": {},
   "source": [
    "## Area of duck by Monte Carlo Integration"
   ]
  },
  {
   "cell_type": "code",
   "execution_count": 1,
   "metadata": {},
   "outputs": [],
   "source": [
    "import numpy as np\n",
    "import matplotlib.pyplot as plt"
   ]
  },
  {
   "cell_type": "code",
   "execution_count": 2,
   "metadata": {},
   "outputs": [],
   "source": [
    "#import data\n",
    "xu = [0.8,0.9,1.3,1.9,2.1,2.6,3.0,3.9,4.4,4.7,5.0,6.0,7.0,8.0,9.2,10.5,11.3,11.6,12.0,12.6,13.0,13.3]\n",
    "yu = [1.25,1.3,1.5,1.85,2.1,2.6,2.7,2.4,2.15,2.05,2.1,2.25,2.3,2.25,1.95,1.4,0.9,0.7,0.6,0.5,0.4,0.25]\n",
    "xl = [13.3,13.0,12.6,12.3,12.0,11.5,11.0,10.8,10.7,10.5,10.0,9.5,9.0,8.8,8.6,8.5,8.4,8.2,8.1,7.8,7.6,7.3,7.0,6.6,6.1,5.6,5.6,5.3,5.0,4.7,4.4,4.3,4.0,3.5,3.0,2.5,2.3,2.2,2.0,1.6,1.2,1.0,0.9,0.8]\n",
    "yl = [0.25,0.15,0.1,0.05,0.0,-0.05,-0.05,-0.05,0.0,-0.15,-0.3,-0.5,-0.55,-0.5,-0.5,-0.55,-0.75,-1.2,-1.75,-2.3,-2.8,-3.35,-3.85,-4.4,-4.85,-5.25,0.1,0.25,0.5,0.75,1.0,1.1,1.1,1.1,1.1,1.15,1.2,1.15,1.1,1.05,1.0,1.05,1.1,1.25]"
   ]
  },
  {
   "cell_type": "code",
   "execution_count": 3,
   "metadata": {},
   "outputs": [
    {
     "data": {
      "image/png": "[encoded data removed]",
      "text/plain": [
       "<matplotlib.figure.Figure at 0xa7c8f10>"
      ]
     },
     "metadata": {},
     "output_type": "display_data"
    }
   ],
   "source": [
    "#plot data\n",
    "plt.plot(xu,yu)\n",
    "plt.plot(xl,yl)\n",
    "plt.show()"
   ]
  },
  {
   "cell_type": "code",
   "execution_count": 4,
   "metadata": {},
   "outputs": [],
   "source": [
    "# convert list to array\n",
    "Xu = np.array(xu)\n",
    "Yu = np.array(yu)\n",
    "Xl = np.array(xl)\n",
    "Yl = np.array(yl)"
   ]
  },
  {
   "cell_type": "code",
   "execution_count": 5,
   "metadata": {},
   "outputs": [],
   "source": [
    "#create functions from interpolations over upper and lower data\n",
    "from scipy.interpolate import interp1d\n",
    "fu = interp1d(Xu,Yu)\n",
    "fl = interp1d(Xl,Yl)"
   ]
  },
  {
   "cell_type": "code",
   "execution_count": 6,
   "metadata": {},
   "outputs": [],
   "source": [
    "def Monte_Carlo_Integral(N,upper_function, lower_function, x_min, x_max):\n",
    "    '''A monte carlo integrator with N points'''\n",
    "    x = np.linspace(x_min,x_max,N)\n",
    "    yu = upper_function(x)\n",
    "    yl = lower_function(x)\n",
    "    width = x_max-x_min\n",
    "    y_max = np.amax(yu)\n",
    "    y_min = np.amin(yl)\n",
    "    height = y_max-y_min\n",
    "    Area = height*width\n",
    "    y = (y_max-y_min)*np.random.random(N)-(abs(y_min))\n",
    "    condition = (yu >= y) & (yl <= y)\n",
    "    count = np.sum(condition)\n",
    "    return Area*count/N"
   ]
  },
  {
   "cell_type": "code",
   "execution_count": 7,
   "metadata": {},
   "outputs": [
    {
     "name": "stdout",
     "output_type": "stream",
     "text": [
      "the area of the duck is\n",
      " 28.6928104119\n"
     ]
    }
   ],
   "source": [
    "#compute area\n",
    "duck_area = Monte_Carlo_Integral(10**7,fu,fl,0.8,13.3)\n",
    "\n",
    "print('the area of the duck is\\n', duck_area)"
   ]
  },
  {
   "cell_type": "code",
   "execution_count": null,
   "metadata": {},
   "outputs": [],
   "source": []
  }
 ],
 "metadata": {
  "kernelspec": {
   "display_name": "Python 3",
   "language": "python",
   "name": "python3"
  },
  "language_info": {
   "codemirror_mode": {
    "name": "ipython",
    "version": 3
   },
   "file_extension": ".py",
   "mimetype": "text/x-python",
   "name": "python",
   "nbconvert_exporter": "python",
   "pygments_lexer": "ipython3",
   "version": "3.6.4"
  }
 },
 "nbformat": 4,
 "nbformat_minor": 2
}
